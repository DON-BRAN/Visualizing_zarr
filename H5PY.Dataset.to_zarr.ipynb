{
 "cells": [
  {
   "cell_type": "code",
   "execution_count": 34,
   "id": "8f7b3069",
   "metadata": {},
   "outputs": [],
   "source": [
    "import zarr"
   ]
  },
  {
   "cell_type": "code",
   "execution_count": 35,
   "id": "a66e9fe7",
   "metadata": {},
   "outputs": [],
   "source": [
    "import h5py"
   ]
  },
  {
   "cell_type": "code",
   "execution_count": 36,
   "id": "21790b96",
   "metadata": {},
   "outputs": [],
   "source": [
    "import numpy as np"
   ]
  },
  {
   "cell_type": "code",
   "execution_count": 37,
   "id": "f8adf981",
   "metadata": {},
   "outputs": [],
   "source": [
    "import os"
   ]
  },
  {
   "cell_type": "code",
   "execution_count": 38,
   "id": "db9142fa",
   "metadata": {},
   "outputs": [],
   "source": [
    "# creating h5py file\n",
    "f = h5py.File('/home/brandon/Desktop/Visualizing-Zarr/my_trial.h5', 'r')\n"
   ]
  },
  {
   "cell_type": "code",
   "execution_count": 40,
   "id": "4a9362f2",
   "metadata": {},
   "outputs": [
    {
     "name": "stdout",
     "output_type": "stream",
     "text": [
      "<HDF5 dataset \"testing1\": shape (25, 10, 10), type \"<f4\">\n"
     ]
    },
    {
     "data": {
      "text/plain": [
       "['itkwidgets view testing.ipynb',\n",
       " 'Viewing zarr using Cartopy.ipynb',\n",
       " 'Xarry to zarr using open_zarr.ipynb',\n",
       " '.git',\n",
       " 'Visualizing using Neuroglancer.ipynb',\n",
       " 'Visualizing using itkwidgets.ipynb',\n",
       " '.ipynb_checkpoints',\n",
       " 'Dask array to zarr.ipynb',\n",
       " 'air_temperatures.zarr',\n",
       " 'README.md',\n",
       " 'Testing Visualization Using Napari.ipynb',\n",
       " 'output1.zarr',\n",
       " 'Xarray to Zarr using to_zarr.ipynb',\n",
       " 'my_trial.h5',\n",
       " 'Dask.array.from_zarr.ipynb',\n",
       " 'H5PY.Dataset.to_zarr.ipynb',\n",
       " 'rasm.zarr',\n",
       " 'air_temperature.zarr',\n",
       " 'output.zarr',\n",
       " 'Visualizing Zarr.ipynb']"
      ]
     },
     "execution_count": 40,
     "metadata": {},
     "output_type": "execute_result"
    }
   ],
   "source": [
    "ds = f.create_dataset(\"testing1\", (25,10,10))\n",
    "print(ds)\n",
    "os.listdir()"
   ]
  },
  {
   "cell_type": "code",
   "execution_count": 41,
   "id": "f42d3267",
   "metadata": {},
   "outputs": [
    {
     "name": "stdout",
     "output_type": "stream",
     "text": [
      "/home/brandon/Desktop/Visualizing-Zarr\n"
     ]
    }
   ],
   "source": [
    "print(os.getcwd())  # to view current working directory"
   ]
  },
  {
   "cell_type": "markdown",
   "id": "4ef69e9b",
   "metadata": {},
   "source": [
    "## HDF5-file to NetCDF4\n",
    "\n",
    "Opening the hdf5-file using netCDF4 in diskless non-persistence mode, and forming a group."
   ]
  },
  {
   "cell_type": "code",
   "execution_count": 42,
   "id": "ec3acce5",
   "metadata": {},
   "outputs": [
    {
     "ename": "FileNotFoundError",
     "evalue": "[Errno 2] No such file or directory: b'<HDF5 dataset \"testing1\": shape (25, 10, 10), type \"<f4\">'",
     "output_type": "error",
     "traceback": [
      "\u001b[0;31m---------------------------------------------------------------------------\u001b[0m",
      "\u001b[0;31mFileNotFoundError\u001b[0m                         Traceback (most recent call last)",
      "\u001b[0;32m/tmp/ipykernel_4586/2071509908.py\u001b[0m in \u001b[0;36m<module>\u001b[0;34m\u001b[0m\n\u001b[1;32m      1\u001b[0m \u001b[0;32mimport\u001b[0m \u001b[0mnetCDF4\u001b[0m\u001b[0;34m\u001b[0m\u001b[0;34m\u001b[0m\u001b[0m\n\u001b[1;32m      2\u001b[0m \u001b[0;34m\u001b[0m\u001b[0m\n\u001b[0;32m----> 3\u001b[0;31m \u001b[0mncf\u001b[0m \u001b[0;34m=\u001b[0m \u001b[0mnetCDF4\u001b[0m\u001b[0;34m.\u001b[0m\u001b[0mDataset\u001b[0m\u001b[0;34m(\u001b[0m\u001b[0mds\u001b[0m\u001b[0;34m,\u001b[0m \u001b[0mdiskless\u001b[0m\u001b[0;34m=\u001b[0m\u001b[0;32mTrue\u001b[0m\u001b[0;34m,\u001b[0m \u001b[0mpersist\u001b[0m\u001b[0;34m=\u001b[0m\u001b[0;32mFalse\u001b[0m\u001b[0;34m)\u001b[0m\u001b[0;34m\u001b[0m\u001b[0;34m\u001b[0m\u001b[0m\n\u001b[0m\u001b[1;32m      4\u001b[0m \u001b[0mnch\u001b[0m \u001b[0;34m=\u001b[0m \u001b[0mncf\u001b[0m\u001b[0;34m.\u001b[0m\u001b[0mgroups\u001b[0m\u001b[0;34m.\u001b[0m\u001b[0mget\u001b[0m\u001b[0;34m(\u001b[0m\u001b[0;34m'ds'\u001b[0m\u001b[0;34m)\u001b[0m\u001b[0;34m\u001b[0m\u001b[0;34m\u001b[0m\u001b[0m\n\u001b[1;32m      5\u001b[0m \u001b[0mxds\u001b[0m \u001b[0;34m=\u001b[0m \u001b[0mxarray\u001b[0m\u001b[0;34m.\u001b[0m\u001b[0mopen_dataset\u001b[0m\u001b[0;34m(\u001b[0m\u001b[0mxarray\u001b[0m\u001b[0;34m.\u001b[0m\u001b[0mbackends\u001b[0m\u001b[0;34m.\u001b[0m\u001b[0mNetCDF4DataStore\u001b[0m\u001b[0;34m(\u001b[0m\u001b[0mnch\u001b[0m\u001b[0;34m)\u001b[0m\u001b[0;34m)\u001b[0m\u001b[0;34m\u001b[0m\u001b[0;34m\u001b[0m\u001b[0m\n",
      "\u001b[0;32msrc/netCDF4/_netCDF4.pyx\u001b[0m in \u001b[0;36mnetCDF4._netCDF4.Dataset.__init__\u001b[0;34m()\u001b[0m\n",
      "\u001b[0;32msrc/netCDF4/_netCDF4.pyx\u001b[0m in \u001b[0;36mnetCDF4._netCDF4._ensure_nc_success\u001b[0;34m()\u001b[0m\n",
      "\u001b[0;31mFileNotFoundError\u001b[0m: [Errno 2] No such file or directory: b'<HDF5 dataset \"testing1\": shape (25, 10, 10), type \"<f4\">'"
     ]
    }
   ],
   "source": [
    "import netCDF4\n",
    "\n",
    "ncf = netCDF4.Dataset(ds, diskless=True, persist=False)\n",
    "nch = ncf.groups.get('ds')\n",
    "xds = xarray.open_dataset(xarray.backends.NetCDF4DataStore(nch))\n",
    "\n",
    "#Decoding using netCDF4\n",
    "var = xds['var']\n",
    "var.attrs['scale_factor'] = var.attrs.get('gain')\n",
    "var.attrs['add_offset'] = var.attrs.get('offset')\n",
    "ds = xarray.decode_cf(xds)"
   ]
  },
  {
   "cell_type": "code",
   "execution_count": 43,
   "id": "2dea7e75",
   "metadata": {},
   "outputs": [
    {
     "ename": "NameError",
     "evalue": "name 'xds' is not defined",
     "output_type": "error",
     "traceback": [
      "\u001b[0;31m---------------------------------------------------------------------------\u001b[0m",
      "\u001b[0;31mNameError\u001b[0m                                 Traceback (most recent call last)",
      "\u001b[0;32m/tmp/ipykernel_4586/1580696823.py\u001b[0m in \u001b[0;36m<module>\u001b[0;34m\u001b[0m\n\u001b[0;32m----> 1\u001b[0;31m \u001b[0mxds\u001b[0m\u001b[0;34m.\u001b[0m\u001b[0mto_zarr\u001b[0m\u001b[0;34m(\u001b[0m\u001b[0;34m\"testing.zarr\"\u001b[0m\u001b[0;34m,\u001b[0m \u001b[0mmode\u001b[0m\u001b[0;34m=\u001b[0m\u001b[0;34m\"r\"\u001b[0m\u001b[0;34m)\u001b[0m\u001b[0;34m\u001b[0m\u001b[0;34m\u001b[0m\u001b[0m\n\u001b[0m",
      "\u001b[0;31mNameError\u001b[0m: name 'xds' is not defined"
     ]
    }
   ],
   "source": [
    "xds.to_zarr(\"testing.zarr\", mode=\"r\")"
   ]
  },
  {
   "cell_type": "code",
   "execution_count": null,
   "id": "8f2de310",
   "metadata": {},
   "outputs": [],
   "source": [
    "print(xds[15])"
   ]
  },
  {
   "cell_type": "code",
   "execution_count": null,
   "id": "86ac1e74",
   "metadata": {},
   "outputs": [],
   "source": []
  }
 ],
 "metadata": {
  "kernelspec": {
   "display_name": "Python 3 (ipykernel)",
   "language": "python",
   "name": "python3"
  },
  "language_info": {
   "codemirror_mode": {
    "name": "ipython",
    "version": 3
   },
   "file_extension": ".py",
   "mimetype": "text/x-python",
   "name": "python",
   "nbconvert_exporter": "python",
   "pygments_lexer": "ipython3",
   "version": "3.10.6"
  }
 },
 "nbformat": 4,
 "nbformat_minor": 5
}

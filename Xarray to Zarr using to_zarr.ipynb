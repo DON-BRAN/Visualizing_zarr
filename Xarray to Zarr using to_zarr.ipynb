{
 "cells": [
  {
   "cell_type": "markdown",
   "id": "14462897",
   "metadata": {},
   "source": [
    "# Interoperability of zarr in Xarray\n",
    "\n",
    "This tutorial elaborates on the usage of `to_zarr` function for the convertion of xarry arrays to zarr"
   ]
  },
  {
   "cell_type": "code",
   "execution_count": 2,
   "id": "5abbfd06",
   "metadata": {},
   "outputs": [],
   "source": [
    "import os\n",
    "import zarr\n",
    "import xarray as xr"
   ]
  },
  {
   "cell_type": "markdown",
   "id": "f5beb51e",
   "metadata": {},
   "source": [
    "## xarry.Dataset.to_zarr\n",
    "\n",
    "Following the default parameters from [Xarray tutorials](https://docs.xarray.dev/en/stable/generated/xarray.Dataset.to_zarr.html), an example of implimetation could be as such"
   ]
  },
  {
   "cell_type": "markdown",
   "id": "ac62018e",
   "metadata": {},
   "source": [
    "\n",
    "Local datasets could be generated or with the availability of internet connection,datasets could be load from online respositories using the function below. A list of available stored datasets could be gotten from Xarry's API [references](https://docs.xarray.dev/en/stable/generated/xarray.tutorial.load_dataset.html)"
   ]
  },
  {
   "cell_type": "code",
   "execution_count": 3,
   "id": "b5f757df",
   "metadata": {},
   "outputs": [],
   "source": [
    "ds = xr.tutorial.load_dataset(\"air_temperature\")"
   ]
  },
  {
   "cell_type": "code",
   "execution_count": 4,
   "id": "0ae5f24c",
   "metadata": {
    "scrolled": true
   },
   "outputs": [
    {
     "name": "stderr",
     "output_type": "stream",
     "text": [
      "/home/brandon/.local/lib/python3.10/site-packages/xarray/core/dataset.py:2091: SerializationWarning: saving variable None with floating point data as an integer dtype without any _FillValue to use for NaNs\n",
      "  return to_zarr(  # type: ignore\n"
     ]
    },
    {
     "data": {
      "text/plain": [
       "<xarray.backends.zarr.ZarrStore at 0x7fd2e79f9150>"
      ]
     },
     "execution_count": 4,
     "metadata": {},
     "output_type": "execute_result"
    }
   ],
   "source": [
    "ds.to_zarr(\"air_temperatures.zarr\", mode=\"w\")"
   ]
  },
  {
   "cell_type": "code",
   "execution_count": 8,
   "id": "98679132",
   "metadata": {},
   "outputs": [
    {
     "name": "stdout",
     "output_type": "stream",
     "text": [
      "['.zgroup', 'lon', 'time', '.zattrs', '.zmetadata', 'lat', 'air']\n",
      "<bound method Dataset.to_zarr of <xarray.Dataset>\n",
      "Dimensions:  (lat: 25, time: 2920, lon: 53)\n",
      "Coordinates:\n",
      "  * lat      (lat) float32 75.0 72.5 70.0 67.5 65.0 ... 25.0 22.5 20.0 17.5 15.0\n",
      "  * lon      (lon) float32 200.0 202.5 205.0 207.5 ... 322.5 325.0 327.5 330.0\n",
      "  * time     (time) datetime64[ns] 2013-01-01 ... 2014-12-31T18:00:00\n",
      "Data variables:\n",
      "    air      (time, lat, lon) float32 241.2 242.5 243.5 ... 296.5 296.2 295.7\n",
      "Attributes:\n",
      "    Conventions:  COARDS\n",
      "    title:        4x daily NMC reanalysis (1948)\n",
      "    description:  Data is from NMC initialized reanalysis\\n(4x/day).  These a...\n",
      "    platform:     Model\n",
      "    references:   http://www.esrl.noaa.gov/psd/data/gridded/data.ncep.reanaly...>\n"
     ]
    }
   ],
   "source": [
    "print(os.listdir(\"air_temperature.zarr\"))\n",
    "print(ds.to_zarr)"
   ]
  },
  {
   "cell_type": "code",
   "execution_count": null,
   "id": "5ba08aab",
   "metadata": {},
   "outputs": [],
   "source": []
  }
 ],
 "metadata": {
  "kernelspec": {
   "display_name": "Python 3 (ipykernel)",
   "language": "python",
   "name": "python3"
  },
  "language_info": {
   "codemirror_mode": {
    "name": "ipython",
    "version": 3
   },
   "file_extension": ".py",
   "mimetype": "text/x-python",
   "name": "python",
   "nbconvert_exporter": "python",
   "pygments_lexer": "ipython3",
   "version": "3.10.6"
  }
 },
 "nbformat": 4,
 "nbformat_minor": 5
}

{
 "cells": [
  {
   "cell_type": "markdown",
   "id": "ee1763cc",
   "metadata": {},
   "source": [
    "# Migrating dask arrays to zarr\n",
    "\n",
    "This tutorial elaborates on the conversion of dask arrays to zarr arrays using the `to_zarr` function.\n",
    "\n",
    "## How to_zarr works\n",
    "\n",
    "Dask is a Python library that implements lazy data structures (array, dataframe, bag) and a clever thread/process scheduler. It integrates with zarr to allow calculations on datasets that don’t fit into core memory, either in a single node or across a cluster.The dask array initially loaded whicih is in chunks and subsets is compressed compressed to a single large zarr array and stored.\n",
    "\n",
    "The Zarr format is a chunk-wise binary array storage file format with a good selection of encoding and compression options. Due to each chunk being stored in a separate file, it is ideal for parallel access in both reading and writing (for the latter, if the Dask array chunks are aligned with the target). Furthermore, storage in remote data services such as S3 and GCS is supported.\n"
   ]
  },
  {
   "cell_type": "code",
   "execution_count": 2,
   "id": "346a2d4f",
   "metadata": {},
   "outputs": [],
   "source": [
    "import os\n",
    "import zarr\n",
    "import dask\n",
    "import dask.array as da"
   ]
  },
  {
   "cell_type": "code",
   "execution_count": 4,
   "id": "b5400ed5",
   "metadata": {},
   "outputs": [
    {
     "name": "stdout",
     "output_type": "stream",
     "text": [
      "dask.array<random_sample, shape=(10000, 10000), dtype=float64, chunksize=(1000, 1000), chunktype=numpy.ndarray>\n"
     ]
    }
   ],
   "source": [
    "# creating random data\n",
    "da_test= da.random.random((10000, 10000), chunks=(1000, 1000))\n",
    "print(da_test)"
   ]
  },
  {
   "cell_type": "code",
   "execution_count": 5,
   "id": "b538ac87",
   "metadata": {},
   "outputs": [],
   "source": [
    "# saving data to local zarr dataset\n",
    "da_test.to_zarr('output.zarr')"
   ]
  },
  {
   "cell_type": "code",
   "execution_count": null,
   "id": "f0a3f4d1",
   "metadata": {},
   "outputs": [],
   "source": [
    "# saving data to custom zarr array\n",
    "z = zarr.create((10,10), dtype=float, store=zarr.ZipStore(\"output1.zarr\"))\n",
    "\n",
    "da_test.to_zarr(z)"
   ]
  },
  {
   "cell_type": "code",
   "execution_count": null,
   "id": "b269a658",
   "metadata": {},
   "outputs": [],
   "source": []
  }
 ],
 "metadata": {
  "kernelspec": {
   "display_name": "Python 3 (ipykernel)",
   "language": "python",
   "name": "python3"
  },
  "language_info": {
   "codemirror_mode": {
    "name": "ipython",
    "version": 3
   },
   "file_extension": ".py",
   "mimetype": "text/x-python",
   "name": "python",
   "nbconvert_exporter": "python",
   "pygments_lexer": "ipython3",
   "version": "3.10.6"
  }
 },
 "nbformat": 4,
 "nbformat_minor": 5
}
